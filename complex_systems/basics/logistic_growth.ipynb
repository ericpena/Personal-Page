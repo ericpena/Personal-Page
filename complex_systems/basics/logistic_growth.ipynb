{
 "cells": [
  {
   "cell_type": "markdown",
   "metadata": {},
   "source": [
    "---\n",
    "title: \"Logistic Growth Model\"\n",
    "author: \"Eric Peña\"\n",
    "date: 2021-03-14T00:00:00-07:00\n",
    "description: \"Logistic Growth\"\n",
    "type: technical_note\n",
    "draft: false\n",
    "---"
   ]
  },
  {
   "cell_type": "markdown",
   "metadata": {},
   "source": [
    "## Logistic Growth Model"
   ]
  },
  {
   "cell_type": "markdown",
   "metadata": {},
   "source": [
    "The simple difference equation below will show exponential growth behavior:\n",
    "\n",
    "$$x_t = a x_{t-1}$$\n",
    "\n",
    "However, it is often the case that a population cannot grow indefinitely but rather reach a population limit. This limit is called the population's carrying capacity. To create a model with exponential growth but also incorporate this convergence to a population maximum limit, we may start with the following train of thought:\n",
    "\n",
    "$$x_t = f(x_{t-1}) x_{t-1}$$\n",
    "\n",
    "The constraints that $f(x_{t-1})$ has to satisfy is that it must pass through the points $(x, f(x)) = (0,a) $ and $(K, 1)$, where $K$ is a constant that represents the carrying capacity of the population. The simplest model would be a straight line using these two points:\n",
    "\n",
    "$$f(x) = -\\frac{a-1}{K}x+a$$\n",
    "\n",
    "We may now use this growth ratio function to put back into our difference equation:\n",
    "\n",
    "$$x_t = \\left(-\\frac{a-1}{K}x_{t-1}+a\\right) x_{t-1}$$\n",
    "\n",
    "This is generally called the \\emph{logistic growth model} written in terms of a difference equation and may be further simplified:\n",
    "$$x_t = \\left( - \\frac{a-1}{K} x_{t-1} + a \\right) x_{t-1} = x_{t-1} + r x_{t-1}\\left( 1 - \\frac{x_{t-1}}{K} \\right)$$\n",
    "\n",
    "where $r = a -1 $.\n",
    "\n",
    "The logistic growth model for varying growth ratios in shown below."
   ]
  },
  {
   "cell_type": "markdown",
   "metadata": {},
   "source": [
    "![title](logistic_growth/growth_ratios.png)\n",
    "<p align=\"justify\">\n",
    "    Figure 1. Logistic growth model with varying values of growth ratio $r$, carrying capacity $K = 50$, and initial condition $x_0 = 5$.</p>"
   ]
  },
  {
   "cell_type": "markdown",
   "metadata": {},
   "source": [
    "This may also be written in terms of a differential equation for the continuous version of this model:\n",
    "\n",
    "$$\\frac{d x(t)}{d t} = r x(t) \\left( 1 - \\frac{x(t)}{K}\\right)$$"
   ]
  },
  {
   "cell_type": "markdown",
   "metadata": {},
   "source": [
    "## Example"
   ]
  },
  {
   "cell_type": "markdown",
   "metadata": {},
   "source": [
    "This example is problem $4.10$ from *Modeling and Analysis of Complex Systems (Sayama, H., p.55)*\n",
    "\n",
    "* *Create a mathematical model of population growth in which the growth ratio is highest at a certain optimal population size, but it goes down as the population deviates from the optimal size. Then simulate its behavior and see how its behavior differs from that of the logistic growth model.*"
   ]
  },
  {
   "cell_type": "markdown",
   "metadata": {},
   "source": [
    "A possible approach could be similar to the logic above which starts with a difference equation whose growth ratio is an arbitrary function, $f(x)$:\n",
    "\n",
    "$$x_t = f(x) x_{t-1}$$\n",
    "\n",
    "Since this function should be maximized at a particular population value and decrease elsewhere, a downward parabola seems to be a reasonable starting point. In basic terms, it can be written as:\n",
    "\n",
    "$$f(x)=-a (x - p)^2 + b$$\n",
    "\n",
    "Chosen values of $a$, $b$, and $p$ are 0.0007, 1.3, and 30, respectively. This function is display below:"
   ]
  },
  {
   "cell_type": "markdown",
   "metadata": {},
   "source": [
    "## Preamble"
   ]
  },
  {
   "cell_type": "code",
   "execution_count": 4,
   "metadata": {},
   "outputs": [],
   "source": [
    "from pylab import *"
   ]
  },
  {
   "cell_type": "markdown",
   "metadata": {},
   "source": [
    "## Defining Logistic Map"
   ]
  },
  {
   "cell_type": "code",
   "execution_count": 5,
   "metadata": {},
   "outputs": [],
   "source": [
    "def f(x, r):\n",
    "    return r*x*(1-x)"
   ]
  },
  {
   "cell_type": "markdown",
   "metadata": {},
   "source": [
    "## Period Doubling Bifurcation $(r = 3.1)$"
   ]
  },
  {
   "cell_type": "code",
   "execution_count": 6,
   "metadata": {},
   "outputs": [
    {
     "data": {
      "image/png": "[encoded data removed]",
      "text/plain": [
       "<Figure size 432x288 with 1 Axes>"
      ]
     },
     "metadata": {
      "needs_background": "light"
     },
     "output_type": "display_data"
    }
   ],
   "source": [
    "x = 0.01\n",
    "r = 3.1\n",
    "xdata = [x]\n",
    "for t in range(100):\n",
    "    x = f(x, r)\n",
    "    xdata.append(x)\n",
    "plot(xdata, 'r.');"
   ]
  },
  {
   "cell_type": "markdown",
   "metadata": {},
   "source": [
    "## Creating Bifurcation Diagram"
   ]
  },
  {
   "cell_type": "code",
   "execution_count": 4,
   "metadata": {},
   "outputs": [
    {
     "data": {
      "image/png": "[encoded data removed]",
      "text/plain": [
       "<Figure size 432x288 with 1 Axes>"
      ]
     },
     "metadata": {
      "needs_background": "light"
     },
     "output_type": "display_data"
    }
   ],
   "source": [
    "rvalues = []\n",
    "xvalues = []\n",
    "for r in linspace(2.5, 3.7, 500):\n",
    "    x = 0.01\n",
    "    for t in range(200):\n",
    "        x = f(x, r)\n",
    "        if t > 100:\n",
    "            rvalues.append(r)\n",
    "            xvalues.append(x)\n",
    "        \n",
    "plot(rvalues, xvalues, 'r.', alpha = 0.05);"
   ]
  },
  {
   "cell_type": "markdown",
   "metadata": {},
   "source": [
    "# References\n",
    "* [Modeling and Analysis of Complex Systems (Sayama, H.)](http://bingweb.binghamton.edu/~sayama/textbook/)\n",
    "* [Modeling Complex Systems (Boccara, N.)](https://www.springer.com/gp/book/9781441965615)"
   ]
  }
 ],
 "metadata": {
  "kernelspec": {
   "display_name": "Python 3",
   "language": "python",
   "name": "python3"
  },
  "language_info": {
   "codemirror_mode": {
    "name": "ipython",
    "version": 3
   },
   "file_extension": ".py",
   "mimetype": "text/x-python",
   "name": "python",
   "nbconvert_exporter": "python",
   "pygments_lexer": "ipython3",
   "version": "3.7.9"
  }
 },
 "nbformat": 4,
 "nbformat_minor": 4
}
